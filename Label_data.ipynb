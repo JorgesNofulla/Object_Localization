{
 "cells": [
  {
   "cell_type": "code",
   "execution_count": null,
   "metadata": {},
   "outputs": [],
   "source": [
    "import os\n",
    "import cv2\n",
    "import xml.etree.ElementTree as ET"
   ]
  },
  {
   "cell_type": "markdown",
   "metadata": {},
   "source": [
    "# Transform into 227x227"
   ]
  },
  {
   "cell_type": "code",
   "execution_count": 5,
   "metadata": {},
   "outputs": [
    {
     "name": "stdout",
     "output_type": "stream",
     "text": [
      "Saved resized image to banana_reshape\\banana_1.jpg\n",
      "Saved resized image to banana_reshape\\banana_2.jpg\n"
     ]
    }
   ],
   "source": [
    "# Function to resize image and save it to a new folder\n",
    "def resize_and_save(image_path, output_folder, size=(227, 227)):\n",
    "    # Read the image\n",
    "    image = cv2.imread(image_path)\n",
    "    if image is None:\n",
    "        print(f'Error loading image {image_path}')\n",
    "        return\n",
    "\n",
    "    # Resize the image\n",
    "    resized_image = cv2.resize(image, size)\n",
    "\n",
    "    # Create the output folder if it doesn't exist\n",
    "    os.makedirs(output_folder, exist_ok=True)\n",
    "\n",
    "    # Extract the filename from the image path\n",
    "    filename = os.path.basename(image_path)\n",
    "\n",
    "    # Create the full output path\n",
    "    output_path = os.path.join(output_folder, filename)\n",
    "\n",
    "    # Save the resized image\n",
    "    cv2.imwrite(output_path, resized_image)\n",
    "    print(f'Saved resized image to {output_path}')\n",
    "\n",
    "# Example usage\n",
    "input_folder = 'banana'\n",
    "output_folder = 'banana_reshape'\n",
    "\n",
    "# Get list of image files in the input folder\n",
    "image_files = [f for f in os.listdir(input_folder) if os.path.isfile(os.path.join(input_folder, f))]\n",
    "\n",
    "# Process each image file\n",
    "for image_file in image_files:\n",
    "    image_path = os.path.join(input_folder, image_file)\n",
    "    resize_and_save(image_path, output_folder)"
   ]
  },
  {
   "cell_type": "markdown",
   "metadata": {},
   "source": [
    "# Draw Bbox and create xml"
   ]
  },
  {
   "cell_type": "code",
   "execution_count": 9,
   "metadata": {},
   "outputs": [],
   "source": [
    "# Initialize global variables for bounding box coordinates\n",
    "bbox = {'xmin': 0, 'ymin': 0, 'xmax': 0, 'ymax': 0}\n",
    "drawing = False\n",
    "\n",
    "# Mouse callback function to draw bounding box\n",
    "def draw_bbox(event, x, y, flags, param):\n",
    "    global bbox, drawing\n",
    "\n",
    "    if event == cv2.EVENT_LBUTTONDOWN:\n",
    "        drawing = True\n",
    "        bbox['xmin'], bbox['ymin'] = x, y\n",
    "\n",
    "    elif event == cv2.EVENT_MOUSEMOVE:\n",
    "        if drawing:\n",
    "            temp_image = image.copy()\n",
    "            cv2.rectangle(temp_image, (bbox['xmin'], bbox['ymin']), (x, y), (255, 0, 0), 2)\n",
    "            cv2.imshow('image', temp_image)\n",
    "\n",
    "    elif event == cv2.EVENT_LBUTTONUP:\n",
    "        drawing = False\n",
    "        bbox['xmax'], bbox['ymax'] = x, y\n",
    "        cv2.rectangle(image, (bbox['xmin'], bbox['ymin']), (bbox['xmax'], bbox['ymax']), (255, 0, 0), 2)\n",
    "        cv2.imshow('image', image)\n",
    "\n",
    "# Function to create XML file\n",
    "def create_xml(filename, folder, width, height, depth, bbox, object_name, save_path):\n",
    "    annotation = ET.Element('annotation')\n",
    "\n",
    "    folder_elem = ET.SubElement(annotation, 'folder')\n",
    "    folder_elem.text = folder\n",
    "\n",
    "    filename_elem = ET.SubElement(annotation, 'filename')\n",
    "    filename_elem.text = filename\n",
    "\n",
    "    source_elem = ET.SubElement(annotation, 'source')\n",
    "    database_elem = ET.SubElement(source_elem, 'database')\n",
    "    database_elem.text = 'MyDatabase'\n",
    "    annotation_elem = ET.SubElement(source_elem, 'annotation')\n",
    "    annotation_elem.text = 'COCO2017'\n",
    "    image_elem = ET.SubElement(source_elem, 'image')\n",
    "    image_elem.text = 'flickr'\n",
    "    flickrid_elem = ET.SubElement(source_elem, 'flickrid')\n",
    "    flickrid_elem.text = 'NULL'\n",
    "    annotator_elem = ET.SubElement(source_elem, 'annotator')\n",
    "    annotator_elem.text = '1'\n",
    "\n",
    "    owner_elem = ET.SubElement(annotation, 'owner')\n",
    "    flickrid_owner_elem = ET.SubElement(owner_elem, 'flickrid')\n",
    "    flickrid_owner_elem.text = 'NULL'\n",
    "    name_owner_elem = ET.SubElement(owner_elem, 'name')\n",
    "    name_owner_elem.text = 'Label Studio'\n",
    "\n",
    "    size_elem = ET.SubElement(annotation, 'size')\n",
    "    width_elem = ET.SubElement(size_elem, 'width')\n",
    "    width_elem.text = str(width)\n",
    "    height_elem = ET.SubElement(size_elem, 'height')\n",
    "    height_elem.text = str(height)\n",
    "    depth_elem = ET.SubElement(size_elem, 'depth')\n",
    "    depth_elem.text = str(depth)\n",
    "\n",
    "    segmented_elem = ET.SubElement(annotation, 'segmented')\n",
    "    segmented_elem.text = '0'\n",
    "\n",
    "    object_elem = ET.SubElement(annotation, 'object')\n",
    "    name_elem = ET.SubElement(object_elem, 'name')\n",
    "    name_elem.text = object_name\n",
    "    pose_elem = ET.SubElement(object_elem, 'pose')\n",
    "    pose_elem.text = 'Unspecified'\n",
    "    truncated_elem = ET.SubElement(object_elem, 'truncated')\n",
    "    truncated_elem.text = '0'\n",
    "    difficult_elem = ET.SubElement(object_elem, 'difficult')\n",
    "    difficult_elem.text = '0'\n",
    "\n",
    "    bndbox_elem = ET.SubElement(object_elem, 'bndbox')\n",
    "    xmin_elem = ET.SubElement(bndbox_elem, 'xmin')\n",
    "    xmin_elem.text = str(bbox['xmin'])\n",
    "    ymin_elem = ET.SubElement(bndbox_elem, 'ymin')\n",
    "    ymin_elem.text = str(bbox['ymin'])\n",
    "    xmax_elem = ET.SubElement(bndbox_elem, 'xmax')\n",
    "    xmax_elem.text = str(bbox['xmax'])\n",
    "    ymax_elem = ET.SubElement(bndbox_elem, 'ymax')\n",
    "    ymax_elem.text = str(bbox['ymax'])\n",
    "\n",
    "    tree = ET.ElementTree(annotation)\n",
    "    tree.write(save_path, encoding='utf-8', xml_declaration=True)\n",
    "\n",
    "# Load the image\n",
    "image_path = 'banana_reshape/banana_4.jpg'\n",
    "image = cv2.imread(image_path)\n",
    "cv2.namedWindow('image')\n",
    "cv2.setMouseCallback('image', draw_bbox)\n",
    "\n",
    "# Display the image and wait for the bounding box to be drawn\n",
    "cv2.imshow('image', image)\n",
    "cv2.waitKey(0)\n",
    "cv2.destroyAllWindows()\n",
    "\n",
    "# Extract filename from image path\n",
    "filename = os.path.basename(image_path)\n",
    "\n",
    "# Define other necessary details\n",
    "folder = os.path.dirname(image_path)\n",
    "height, width, depth = image.shape\n",
    "object_name = 'banana'\n",
    "save_path = save_path = os.path.splitext(filename)[0] + '.xml'\n",
    "\n",
    "# Create the XML file\n",
    "create_xml(filename, folder, width, height, depth, bbox, object_name, save_path)"
   ]
  },
  {
   "cell_type": "code",
   "execution_count": 2,
   "metadata": {},
   "outputs": [
    {
     "data": {
      "text/plain": [
       "'4fbf5ecb-c02b4850-orange_middleright.jpg'"
      ]
     },
     "execution_count": 2,
     "metadata": {},
     "output_type": "execute_result"
    }
   ],
   "source": [
    "filename"
   ]
  },
  {
   "cell_type": "code",
   "execution_count": null,
   "metadata": {},
   "outputs": [],
   "source": []
  }
 ],
 "metadata": {
  "kernelspec": {
   "display_name": "venv",
   "language": "python",
   "name": "python3"
  },
  "language_info": {
   "codemirror_mode": {
    "name": "ipython",
    "version": 3
   },
   "file_extension": ".py",
   "mimetype": "text/x-python",
   "name": "python",
   "nbconvert_exporter": "python",
   "pygments_lexer": "ipython3",
   "version": "3.11.9"
  }
 },
 "nbformat": 4,
 "nbformat_minor": 2
}
